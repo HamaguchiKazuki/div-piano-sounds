{
 "cells": [
  {
   "cell_type": "markdown",
   "metadata": {},
   "source": [
    "### 学習用 : チューニング用 : テスト用 のデータ生成\n",
    "\n",
    "データ数　　　　　　168　個  \n",
    "\n",
    "学習用データ　　　　119　個  \n",
    "チューニングデータ　35 　 個  \n",
    "テストデータ　　　　14　  個  \n",
    "\n",
    "学習 : チューニング : 評価 = 17 : 5 : 2\n",
    "\n",
    "学習用データは　random.seedによって生成するものを固定する"
   ]
  },
  {
   "cell_type": "code",
   "execution_count": 22,
   "metadata": {},
   "outputs": [
    {
     "name": "stdout",
     "output_type": "stream",
     "text": [
      "all_sounds : [0, 1, 2, 3, 4, 5, 6, 7, 8, 9, 10, 11, 12, 13, 14, 15, 16, 17, 18, 19, 20, 21, 22, 23]\n",
      "train_sounds : [0, 1, 2, 3, 5, 6, 7, 8, 11, 12, 14, 15, 16, 17, 19, 20, 23]\n",
      "tune_sounds : [4, 9, 13, 18, 21]\n",
      "test_sounds : [10, 22]\n"
     ]
    }
   ],
   "source": [
    "import random\n",
    "\n",
    "random.seed(5)\n",
    "\n",
    "piano_notes = ['do', 're', 'mi', 'fa', 'so', 'ra', 'si']\n",
    "piano_all_sounds = list(range(24))\n",
    "\n",
    "piano_train_sounds = random.sample(piano_all_sounds, 17)\n",
    "\n",
    "set_tune = set(piano_all_sounds) - set(piano_train_sounds)\n",
    "piano_tune_sounds = random.sample(list(set_tune), 5)\n",
    "\n",
    "set_test = set(piano_all_sounds) - set(piano_train_sounds) - set(piano_tune_sounds)\n",
    "piano_test_sounds = random.sample(list(set_test), 2)\n",
    "\n",
    "print(\"all_sounds : {}\".format(sorted(piano_all_sounds)))\n",
    "print(\"train_sounds : {}\".format(sorted(piano_train_sounds)))\n",
    "print(\"tune_sounds : {}\".format(sorted(piano_tune_sounds)))\n",
    "print(\"test_sounds : {}\".format(sorted(piano_test_sounds)))\n",
    "\n",
    "\n"
   ]
  },
  {
   "cell_type": "markdown",
   "metadata": {},
   "source": [
    "### 前処理\n",
    "\n",
    "特徴量の選択にmfccを選択  \n",
    "mfccは173次元で構成されている\n"
   ]
  },
  {
   "cell_type": "code",
   "execution_count": 23,
   "metadata": {},
   "outputs": [
    {
     "name": "stdout",
     "output_type": "stream",
     "text": [
      "Reading data of do...\n",
      "Reading data of re...\n",
      "Reading data of mi...\n",
      "Reading data of fa...\n",
      "Reading data of so...\n",
      "Reading data of ra...\n",
      "Reading data of si...\n",
      "done.\n",
      "\n"
     ]
    }
   ],
   "source": [
    "import scipy.io.wavfile as wav\n",
    "import librosa\n",
    "from sklearn.svm import SVC\n",
    "import numpy\n",
    "\n",
    "def get_mfcc(fname):\n",
    "    y, sr = librosa.load(fname)\n",
    "    return librosa.feature.mfcc(y, sr)\n",
    "\n",
    "if __name__  ==  '__main__':\n",
    "\n",
    "    piano_note_training = []\n",
    "    piano_sound_training = []\n",
    "\n",
    "    for piano_note in piano_notes:\n",
    "        print('Reading data of {}...'.format(piano_note))\n",
    "        for piano_sound in piano_train_sounds:\n",
    "            \n",
    "            # get mfcc 173次元\n",
    "            mfcc = get_mfcc('{}/{}{}.wav'.format(piano_note, piano_note, piano_sound))\n",
    "            piano_sound_training.append(mfcc.T)\n",
    "            \n",
    "            label = numpy.full((mfcc.shape[1], ), \n",
    "                               piano_notes.index(piano_note), dtype=numpy.int)\n",
    "            piano_note_training.append(label)\n",
    "    \n",
    "    piano_sound_training = numpy.concatenate(piano_sound_training)\n",
    "    piano_note_training = numpy.concatenate(piano_note_training)\n",
    "    print('done.\\n')"
   ]
  },
  {
   "cell_type": "markdown",
   "metadata": {},
   "source": [
    "### パラメータチューニング &　テストの評価\n",
    "\n",
    "チューニングの検証とテストの評価は同時に行うべきとの指摘のため一緒に実行  \n",
    "1e-1〜1e-7までのgamma値を設定しより良い評価を探す  \n",
    "\n"
   ]
  },
  {
   "cell_type": "code",
   "execution_count": 24,
   "metadata": {},
   "outputs": [
    {
     "name": "stdout",
     "output_type": "stream",
     "text": [
      "\n",
      "----- gamma=0.1 -----\n",
      "\n",
      "----- Learning Done -----\n",
      "\n",
      "----- tune -----\n",
      "0.1 : correct rate : 48.57142857142857%.\n",
      "----- test -----\n",
      "0.1 correct rate : 42.857142857142854%\n",
      "\n",
      ".\n",
      "\n",
      "----- gamma=0.01 -----\n",
      "\n",
      "----- Learning Done -----\n",
      "\n",
      "----- tune -----\n",
      "0.01 : correct rate : 74.28571428571429%.\n",
      "----- test -----\n",
      "0.01 correct rate : 50.0%\n",
      "\n",
      ".\n",
      "\n",
      "----- gamma=0.001 -----\n",
      "\n",
      "----- Learning Done -----\n",
      "\n",
      "----- tune -----\n",
      "0.001 : correct rate : 94.28571428571428%.\n",
      "----- test -----\n",
      "0.001 correct rate : 100.0%\n",
      "\n",
      ".\n",
      "\n",
      "----- gamma=0.0001 -----\n",
      "\n",
      "----- Learning Done -----\n",
      "\n",
      "----- tune -----\n",
      "0.0001 : correct rate : 91.42857142857143%.\n",
      "----- test -----\n",
      "0.0001 correct rate : 92.85714285714286%\n",
      "\n",
      ".\n",
      "\n",
      "----- gamma=1e-05 -----\n",
      "\n",
      "----- Learning Done -----\n",
      "\n",
      "----- tune -----\n",
      "1e-05 : correct rate : 77.14285714285715%.\n",
      "----- test -----\n",
      "1e-05 correct rate : 64.28571428571429%\n",
      "\n",
      ".\n",
      "\n",
      "----- gamma=1e-06 -----\n",
      "\n",
      "----- Learning Done -----\n",
      "\n",
      "----- tune -----\n",
      "1e-06 : correct rate : 42.857142857142854%.\n",
      "----- test -----\n",
      "1e-06 correct rate : 21.428571428571427%\n",
      "\n",
      ".\n",
      "\n",
      "----- gamma=1e-07 -----\n",
      "\n",
      "----- Learning Done -----\n",
      "\n",
      "----- tune -----\n",
      "1e-07 : correct rate : 20.0%.\n",
      "----- test -----\n",
      "1e-07 correct rate : 0.0%\n",
      "\n",
      ".\n"
     ]
    }
   ],
   "source": [
    "# gamma値の選択\n",
    "\n",
    "gamma_list = [1e-1, 1e-2, 1e-3, 1e-4, 1e-5, 1e-6, 1e-7]\n",
    "\n",
    "for gamma in gamma_list:\n",
    "    print('\\n----- gamma={} -----\\n'.format(gamma))\n",
    "    svc = SVC(gamma = gamma)\n",
    "    svc.fit(piano_sound_training, piano_note_training)\n",
    "    print('----- Learning Done -----\\n')\n",
    "\n",
    "    # 正答率\n",
    "    sounds_num = 0\n",
    "    correct_sounds = 0\n",
    "    correct_rate = 0.0\n",
    "\n",
    "    print(\"----- tune -----\")\n",
    "    for piano_note in piano_notes:\n",
    "        for piano_sound in piano_tune_sounds:\n",
    "            sounds_num += 1\n",
    "            mfcc = get_mfcc('{}/{}{}.wav'.format(piano_note, piano_note,piano_sound))\n",
    "            prediction = svc.predict(mfcc.T)\n",
    "            counts = numpy.bincount(prediction) \n",
    "            result = piano_notes[numpy.argmax(counts)] # 音階の判定\n",
    "            original_title = '{}'.format(piano_note)\n",
    "\n",
    "            if result == original_title:\n",
    "                correct_sounds += 1\n",
    "                \n",
    "    correct_rate = correct_sounds / sounds_num\n",
    "    print('{} : correct rate : {}%.'.format(gamma,correct_rate*100))\n",
    "    \n",
    "    # 正答率\n",
    "    sounds_num = 0\n",
    "    correct_sounds = 0\n",
    "    correct_rate = 0.0\n",
    "    \n",
    "    print(\"----- test -----\")\n",
    "    for piano_note in piano_notes:\n",
    "        for piano_sound in piano_test_sounds:\n",
    "            sounds_num += 1\n",
    "            mfcc = get_mfcc('{}/{}{}.wav'.format(piano_note, piano_note,piano_sound))\n",
    "            prediction = svc.predict(mfcc.T)\n",
    "            counts = numpy.bincount(prediction) \n",
    "            result = piano_notes[numpy.argmax(counts)] # 音程の判定\n",
    "            original_title = '{}'.format(piano_note)\n",
    "\n",
    "            if result == original_title:\n",
    "                correct_sounds += 1\n",
    "\n",
    "    correct_rate = correct_sounds / sounds_num\n",
    "    print('{} correct rate : {}%\\n\\n.'.format(gamma, correct_rate*100))"
   ]
  },
  {
   "cell_type": "markdown",
   "metadata": {},
   "source": [
    "### 感想\n",
    "\n",
    "gamma = 1e-3がとても良い結果を出すことがわかった  \n",
    "今度は機械音声にも通用するか試してみたい  \n",
    "検証とテストはモデル保存をしないとDNNでは値が大きく変わるため注意したい  \n"
   ]
  },
  {
   "cell_type": "code",
   "execution_count": null,
   "metadata": {},
   "outputs": [],
   "source": []
  },
  {
   "cell_type": "markdown",
   "metadata": {},
   "source": [
    "\n",
    "\n",
    "検証したgamma値のまま評価も一緒に行う\n",
    "分けるならモデルをpklで保存をしないといけない"
   ]
  },
  {
   "cell_type": "code",
   "execution_count": null,
   "metadata": {},
   "outputs": [],
   "source": []
  }
 ],
 "metadata": {
  "kernelspec": {
   "display_name": "Python 3",
   "language": "python",
   "name": "python3"
  },
  "language_info": {
   "codemirror_mode": {
    "name": "ipython",
    "version": 3
   },
   "file_extension": ".py",
   "mimetype": "text/x-python",
   "name": "python",
   "nbconvert_exporter": "python",
   "pygments_lexer": "ipython3",
   "version": "3.6.5"
  }
 },
 "nbformat": 4,
 "nbformat_minor": 2
}
